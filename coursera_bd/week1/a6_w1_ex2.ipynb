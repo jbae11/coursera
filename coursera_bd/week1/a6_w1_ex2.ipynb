{
 "cells": [
  {
   "cell_type": "markdown",
   "metadata": {
    "collapsed": true
   },
   "source": [
    "Welcome to exercise two of “Apache Spark for Scalable Machine Learning on BigData”. In this exercise you’ll apply the basics of functional and parallel programming. \n",
    "\n",
    "Again, please use the following two links for your reference:\n",
    "https://spark.apache.org/docs/latest/api/python/pyspark.html#pyspark.RDD\n",
    "https://spark.apache.org/docs/latest/rdd-programming-guide.html\n",
    "\n",
    "Let’s actually create a python function which decides whether a value is greater than 50 (True) or not (False)."
   ]
  },
  {
   "cell_type": "code",
   "execution_count": 1,
   "metadata": {},
   "outputs": [],
   "source": [
    "def gt50(i):\n",
    "    if i > 50:\n",
    "        return True\n",
    "    else:\n",
    "        return False"
   ]
  },
  {
   "cell_type": "code",
   "execution_count": 2,
   "metadata": {},
   "outputs": [
    {
     "name": "stdout",
     "output_type": "stream",
     "text": [
      "False\n",
      "True\n"
     ]
    }
   ],
   "source": [
    "print(gt50(4))\n",
    "print(gt50(51))"
   ]
  },
  {
   "cell_type": "markdown",
   "metadata": {},
   "source": [
    "Let’s simplify this function"
   ]
  },
  {
   "cell_type": "code",
   "execution_count": 3,
   "metadata": {},
   "outputs": [],
   "source": [
    "def gt50(i):\n",
    "    return i > 50"
   ]
  },
  {
   "cell_type": "code",
   "execution_count": 4,
   "metadata": {},
   "outputs": [
    {
     "name": "stdout",
     "output_type": "stream",
     "text": [
      "False\n",
      "True\n"
     ]
    }
   ],
   "source": [
    "print(gt50(4))\n",
    "print(gt50(51))"
   ]
  },
  {
   "cell_type": "markdown",
   "metadata": {},
   "source": [
    "Now let’s use the lambda notation to define the function."
   ]
  },
  {
   "cell_type": "code",
   "execution_count": 5,
   "metadata": {},
   "outputs": [],
   "source": [
    "gt50 = lambda i: i > 50"
   ]
  },
  {
   "cell_type": "code",
   "execution_count": 6,
   "metadata": {},
   "outputs": [
    {
     "name": "stdout",
     "output_type": "stream",
     "text": [
      "False\n",
      "True\n"
     ]
    }
   ],
   "source": [
    "print(gt50(4))\n",
    "print(gt50(51))"
   ]
  },
  {
   "cell_type": "code",
   "execution_count": 8,
   "metadata": {},
   "outputs": [
    {
     "name": "stdout",
     "output_type": "stream",
     "text": [
      "Collecting pyspark\n",
      "\u001b[?25l  Downloading https://files.pythonhosted.org/packages/9a/5a/271c416c1c2185b6cb0151b29a91fff6fcaed80173c8584ff6d20e46b465/pyspark-2.4.5.tar.gz (217.8MB)\n",
      "\u001b[K     |████████████████████████████████| 217.8MB 183kB/s  eta 0:00:01  |▊                               | 4.7MB 1.2MB/s eta 0:02:58     |▉                               | 5.4MB 1.2MB/s eta 0:02:58     |▉                               | 6.0MB 1.2MB/s eta 0:02:57     |██▏                             | 14.9MB 11.7MB/s eta 0:00:18     |██▍                             | 16.2MB 11.7MB/s eta 0:00:18     |███▏                            | 21.4MB 11.7MB/s eta 0:00:17     |████▏                           | 28.3MB 16.1MB/s eta 0:00:12     |████▎                           | 29.0MB 16.1MB/s eta 0:00:12     |████▌                           | 30.5MB 16.1MB/s eta 0:00:12     |█████▉                          | 39.4MB 16.1MB/s eta 0:00:12     |██████▍                         | 43.1MB 9.2MB/s eta 0:00:20     |██████████████                  | 94.9MB 17.4MB/s eta 0:00:08     |██████████████▊                 | 100.3MB 8.2MB/s eta 0:00:15     |████████████████▋               | 113.1MB 12.7MB/s eta 0:00:09     |█████████████████▎              | 117.7MB 12.7MB/s eta 0:00:08     |█████████████████▉              | 121.7MB 6.0MB/s eta 0:00:17     |██████████████████▎             | 124.6MB 6.0MB/s eta 0:00:16     |██████████████████▋             | 126.9MB 6.0MB/s eta 0:00:16     |███████████████████▋            | 133.3MB 7.5MB/s eta 0:00:12     |██████████████████████▌         | 152.8MB 13.4MB/s eta 0:00:05     |█████████████████████████▏      | 171.2MB 9.8MB/s eta 0:00:05     |█████████████████████████▍      | 172.5MB 9.8MB/s eta 0:00:05     |█████████████████████████▍      | 173.1MB 9.8MB/s eta 0:00:05     |█████████████████████████▌      | 173.8MB 9.8MB/s eta 0:00:05     |███████████████████████████████▉| 216.9MB 13.1MB/s eta 0:00:01\n",
      "\u001b[?25hCollecting py4j==0.10.7 (from pyspark)\n",
      "\u001b[?25l  Downloading https://files.pythonhosted.org/packages/e3/53/c737818eb9a7dc32a7cd4f1396e787bd94200c3997c72c1dbe028587bd76/py4j-0.10.7-py2.py3-none-any.whl (197kB)\n",
      "\u001b[K     |████████████████████████████████| 204kB 8.1MB/s eta 0:00:01\n",
      "\u001b[?25hBuilding wheels for collected packages: pyspark\n",
      "  Building wheel for pyspark (setup.py) ... \u001b[?25ldone\n",
      "\u001b[?25h  Created wheel for pyspark: filename=pyspark-2.4.5-py2.py3-none-any.whl size=218257928 sha256=d349c5d5c2c757984a52c4fc8d90aa24ceb4aba793818cf4613f4dfd417112ec\n",
      "  Stored in directory: /home/teddy/.cache/pip/wheels/bf/db/04/61d66a5939364e756eb1c1be4ec5bdce6e04047fc7929a3c3c\n",
      "Successfully built pyspark\n",
      "Installing collected packages: py4j, pyspark\n",
      "Successfully installed py4j-0.10.7 pyspark-2.4.5\n"
     ]
    }
   ],
   "source": [
    "! pip install pyspark"
   ]
  },
  {
   "cell_type": "code",
   "execution_count": 12,
   "metadata": {},
   "outputs": [],
   "source": [
    "import pyspark\n",
    "\n",
    "sc = pyspark.SparkContext()"
   ]
  },
  {
   "cell_type": "code",
   "execution_count": 13,
   "metadata": {},
   "outputs": [],
   "source": [
    "#let's shuffle our list to make it a bit more interesting\n",
    "from random import shuffle\n",
    "l = list(range(100))\n",
    "shuffle(l)\n",
    "rdd = sc.parallelize(l)"
   ]
  },
  {
   "cell_type": "markdown",
   "metadata": {},
   "source": [
    "Let’s filter values from our list which are equals or less than 50 by applying our “gt50” function to the list using the “filter” function. Note that by calling the “collect” function, all elements are returned to the Apache Spark Driver. This is not a good idea for BigData, please use “.sample(10,0.1).collect()” or “take(n)” instead."
   ]
  },
  {
   "cell_type": "code",
   "execution_count": 19,
   "metadata": {},
   "outputs": [
    {
     "data": {
      "text/plain": [
       "100"
      ]
     },
     "execution_count": 19,
     "metadata": {},
     "output_type": "execute_result"
    }
   ],
   "source": [
    "len(rdd.collect())"
   ]
  },
  {
   "cell_type": "code",
   "execution_count": 21,
   "metadata": {},
   "outputs": [
    {
     "data": {
      "text/plain": [
       "[90,\n",
       " 64,\n",
       " 65,\n",
       " 79,\n",
       " 56,\n",
       " 52,\n",
       " 89,\n",
       " 72,\n",
       " 73,\n",
       " 94,\n",
       " 61,\n",
       " 76,\n",
       " 99,\n",
       " 54,\n",
       " 60,\n",
       " 84,\n",
       " 63,\n",
       " 62,\n",
       " 55,\n",
       " 86,\n",
       " 81,\n",
       " 91,\n",
       " 80,\n",
       " 97,\n",
       " 93,\n",
       " 71,\n",
       " 57,\n",
       " 58,\n",
       " 68,\n",
       " 70,\n",
       " 87,\n",
       " 67,\n",
       " 88,\n",
       " 69,\n",
       " 78,\n",
       " 96,\n",
       " 95,\n",
       " 74,\n",
       " 59,\n",
       " 98,\n",
       " 51,\n",
       " 92,\n",
       " 75,\n",
       " 53,\n",
       " 66,\n",
       " 82,\n",
       " 77,\n",
       " 85,\n",
       " 83]"
      ]
     },
     "execution_count": 21,
     "metadata": {},
     "output_type": "execute_result"
    }
   ],
   "source": [
    "rdd.filter(gt50).collect()"
   ]
  },
  {
   "cell_type": "markdown",
   "metadata": {},
   "source": [
    "We can also use the lambda function directly."
   ]
  },
  {
   "cell_type": "code",
   "execution_count": 22,
   "metadata": {},
   "outputs": [
    {
     "data": {
      "text/plain": [
       "[90,\n",
       " 64,\n",
       " 65,\n",
       " 79,\n",
       " 56,\n",
       " 52,\n",
       " 89,\n",
       " 72,\n",
       " 73,\n",
       " 94,\n",
       " 61,\n",
       " 76,\n",
       " 99,\n",
       " 54,\n",
       " 60,\n",
       " 84,\n",
       " 63,\n",
       " 62,\n",
       " 55,\n",
       " 86,\n",
       " 81,\n",
       " 91,\n",
       " 80,\n",
       " 97,\n",
       " 93,\n",
       " 71,\n",
       " 57,\n",
       " 58,\n",
       " 68,\n",
       " 70,\n",
       " 87,\n",
       " 67,\n",
       " 88,\n",
       " 69,\n",
       " 78,\n",
       " 96,\n",
       " 95,\n",
       " 74,\n",
       " 59,\n",
       " 98,\n",
       " 51,\n",
       " 92,\n",
       " 75,\n",
       " 53,\n",
       " 66,\n",
       " 82,\n",
       " 77,\n",
       " 85,\n",
       " 83]"
      ]
     },
     "execution_count": 22,
     "metadata": {},
     "output_type": "execute_result"
    }
   ],
   "source": [
    "rdd.filter(lambda i: i > 50).collect()"
   ]
  },
  {
   "cell_type": "markdown",
   "metadata": {},
   "source": [
    "Let’s consider the same list of integers. Now we want to compute the sum for elements in that list which are greater than 50 but less than 75. Please implement the missing parts. "
   ]
  },
  {
   "cell_type": "code",
   "execution_count": 23,
   "metadata": {},
   "outputs": [
    {
     "data": {
      "text/plain": [
       "1500"
      ]
     },
     "execution_count": 23,
     "metadata": {},
     "output_type": "execute_result"
    }
   ],
   "source": [
    "rdd.filter(lambda x: x > 50).filter(lambda x: x < 75).sum()"
   ]
  },
  {
   "cell_type": "markdown",
   "metadata": {},
   "source": [
    "You should see \"1500\" as answer. Now we want to know the sum of all elements. Please again, have a look at the API documentation and complete the code below in order to get the sum."
   ]
  },
  {
   "cell_type": "code",
   "execution_count": null,
   "metadata": {},
   "outputs": [],
   "source": []
  }
 ],
 "metadata": {
  "kernelspec": {
   "display_name": "Python 3",
   "language": "python",
   "name": "python3"
  },
  "language_info": {
   "codemirror_mode": {
    "name": "ipython",
    "version": 3
   },
   "file_extension": ".py",
   "mimetype": "text/x-python",
   "name": "python",
   "nbconvert_exporter": "python",
   "pygments_lexer": "ipython3",
   "version": "3.6.9"
  }
 },
 "nbformat": 4,
 "nbformat_minor": 1
}
